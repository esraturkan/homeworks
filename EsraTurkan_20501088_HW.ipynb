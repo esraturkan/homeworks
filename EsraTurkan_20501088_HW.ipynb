{
  "nbformat": 4,
  "nbformat_minor": 0,
  "metadata": {
    "colab": {
      "provenance": [],
      "mount_file_id": "11fF4cK0Z5l-NOd0OE-C60BVL_j0GqEEl",
      "authorship_tag": "ABX9TyO/NicXp9jHl+AYPAY8Jr9b",
      "include_colab_link": true
    },
    "kernelspec": {
      "name": "python3",
      "display_name": "Python 3"
    },
    "language_info": {
      "name": "python"
    }
  },
  "cells": [
    {
      "cell_type": "markdown",
      "metadata": {
        "id": "view-in-github",
        "colab_type": "text"
      },
      "source": [
        "<a href=\"https://colab.research.google.com/github/esraturkan/homeworks/blob/main/EsraTurkan_20501088_HW.ipynb\" target=\"_parent\"><img src=\"https://colab.research.google.com/assets/colab-badge.svg\" alt=\"Open In Colab\"/></a>"
      ]
    },
    {
      "cell_type": "code",
      "execution_count": null,
      "metadata": {
        "id": "d01PojbycZP6"
      },
      "outputs": [],
      "source": [
        "import numpy as np\n",
        "import pandas as pd\n",
        "from sklearn.model_selection import  train_test_split\n",
        "from sklearn.feature_extraction.text import TfidfVectorizer\n",
        "from sklearn.metrics import accuracy_score, confusion_matrix"
      ]
    },
    {
      "cell_type": "code",
      "source": [
        "df=pd.read_csv('dataset.csv')\n",
        "df.head()"
      ],
      "metadata": {
        "colab": {
          "base_uri": "https://localhost:8080/",
          "height": 206
        },
        "id": "r3z2RcgCceaJ",
        "outputId": "02cbce11-573c-4b60-93f7-475c424cb219"
      },
      "execution_count": null,
      "outputs": [
        {
          "output_type": "execute_result",
          "data": {
            "text/html": [
              "<div>\n",
              "<style scoped>\n",
              "    .dataframe tbody tr th:only-of-type {\n",
              "        vertical-align: middle;\n",
              "    }\n",
              "\n",
              "    .dataframe tbody tr th {\n",
              "        vertical-align: top;\n",
              "    }\n",
              "\n",
              "    .dataframe thead th {\n",
              "        text-align: right;\n",
              "    }\n",
              "</style>\n",
              "<table border=\"1\" class=\"dataframe\">\n",
              "  <thead>\n",
              "    <tr style=\"text-align: right;\">\n",
              "      <th></th>\n",
              "      <th>title</th>\n",
              "      <th>label</th>\n",
              "    </tr>\n",
              "  </thead>\n",
              "  <tbody>\n",
              "    <tr>\n",
              "      <th>0</th>\n",
              "      <td>Muslims BUSTED: They Stole Millions In Gov’t B...</td>\n",
              "      <td>fake</td>\n",
              "    </tr>\n",
              "    <tr>\n",
              "      <th>1</th>\n",
              "      <td>Re: Why Did Attorney General Loretta Lynch Ple...</td>\n",
              "      <td>fake</td>\n",
              "    </tr>\n",
              "    <tr>\n",
              "      <th>2</th>\n",
              "      <td>BREAKING: Weiner Cooperating With FBI On Hilla...</td>\n",
              "      <td>fake</td>\n",
              "    </tr>\n",
              "    <tr>\n",
              "      <th>3</th>\n",
              "      <td>PIN DROP SPEECH BY FATHER OF DAUGHTER Kidnappe...</td>\n",
              "      <td>fake</td>\n",
              "    </tr>\n",
              "    <tr>\n",
              "      <th>4</th>\n",
              "      <td>FANTASTIC! TRUMP'S 7 POINT PLAN To Reform Heal...</td>\n",
              "      <td>fake</td>\n",
              "    </tr>\n",
              "  </tbody>\n",
              "</table>\n",
              "</div>"
            ],
            "text/plain": [
              "                                               title label\n",
              "0  Muslims BUSTED: They Stole Millions In Gov’t B...  fake\n",
              "1  Re: Why Did Attorney General Loretta Lynch Ple...  fake\n",
              "2  BREAKING: Weiner Cooperating With FBI On Hilla...  fake\n",
              "3  PIN DROP SPEECH BY FATHER OF DAUGHTER Kidnappe...  fake\n",
              "4  FANTASTIC! TRUMP'S 7 POINT PLAN To Reform Heal...  fake"
            ]
          },
          "metadata": {},
          "execution_count": 2
        }
      ]
    },
    {
      "cell_type": "code",
      "source": [
        "labels=df.label\n",
        "labels.head()"
      ],
      "metadata": {
        "colab": {
          "base_uri": "https://localhost:8080/"
        },
        "id": "-PUt9n9QcmLE",
        "outputId": "0c95bb75-6a08-485b-a32e-3e601b585991"
      },
      "execution_count": null,
      "outputs": [
        {
          "output_type": "execute_result",
          "data": {
            "text/plain": [
              "0    fake\n",
              "1    fake\n",
              "2    fake\n",
              "3    fake\n",
              "4    fake\n",
              "Name: label, dtype: object"
            ]
          },
          "metadata": {},
          "execution_count": 3
        }
      ]
    },
    {
      "cell_type": "code",
      "source": [
        "import matplotlib.pyplot as plt\n",
        "import seaborn as sns\n",
        "\n",
        "plt.figure(figsize=(10,10))\n",
        "plt.style.use(\"fivethirtyeight\")\n",
        "sns.countplot(labels)\n",
        "plt.show()"
      ],
      "metadata": {
        "colab": {
          "base_uri": "https://localhost:8080/",
          "height": 669
        },
        "id": "-LvlPffhcnGJ",
        "outputId": "9aea31bd-be4a-478e-9fb4-a2ce6c9ab020"
      },
      "execution_count": null,
      "outputs": [
        {
          "output_type": "stream",
          "name": "stderr",
          "text": [
            "/usr/local/lib/python3.7/dist-packages/seaborn/_decorators.py:43: FutureWarning: Pass the following variable as a keyword arg: x. From version 0.12, the only valid positional argument will be `data`, and passing other arguments without an explicit keyword will result in an error or misinterpretation.\n",
            "  FutureWarning\n"
          ]
        },
        {
          "output_type": "display_data",
          "data": {
            "image/png": "[encoded data removed]",
            "text/plain": [
              "<Figure size 720x720 with 1 Axes>"
            ]
          },
          "metadata": {
            "needs_background": "light"
          }
        }
      ]
    },
    {
      "cell_type": "code",
      "source": [
        "x_train,x_test,y_train,y_test=train_test_split(df['title'],labels,test_size=0.15,random_state=7)"
      ],
      "metadata": {
        "id": "PJ7sVQR6MVtV"
      },
      "execution_count": null,
      "outputs": []
    },
    {
      "cell_type": "code",
      "source": [
        "vectorizer=TfidfVectorizer(stop_words='english', max_df=0.7)\n",
        "\n",
        "tfidf_train=vectorizer.fit_transform(x_train)\n",
        "tfidf_test=vectorizer.transform(x_test)"
      ],
      "metadata": {
        "id": "iHVi8W4UODyg"
      },
      "execution_count": null,
      "outputs": []
    },
    {
      "cell_type": "code",
      "source": [
        "from sklearn.model_selection import KFold\n",
        "from sklearn.model_selection import cross_val_score\n",
        "\n",
        "# prepare the cross-validation procedure\n",
        "cv = KFold(n_splits=5, random_state=1, shuffle=True)\n"
      ],
      "metadata": {
        "id": "ke6GasfTCThF"
      },
      "execution_count": null,
      "outputs": []
    },
    {
      "cell_type": "markdown",
      "source": [
        "**DECISION TREE**"
      ],
      "metadata": {
        "id": "x6DMxKKDPbzQ"
      }
    },
    {
      "cell_type": "code",
      "source": [
        "from sklearn.tree import DecisionTreeClassifier\n",
        "classifier=DecisionTreeClassifier(criterion='entropy',random_state=0,max_depth=10)\n",
        "\n",
        "\n"
      ],
      "metadata": {
        "id": "gDW8Q73ZL7SQ"
      },
      "execution_count": null,
      "outputs": []
    },
    {
      "cell_type": "code",
      "source": [
        "classifier.fit(tfidf_train,y_train)"
      ],
      "metadata": {
        "id": "VsjK7Le2CSXJ",
        "colab": {
          "base_uri": "https://localhost:8080/"
        },
        "outputId": "5399c21c-b2ec-420a-ec0a-4ee82694fe1a"
      },
      "execution_count": null,
      "outputs": [
        {
          "output_type": "execute_result",
          "data": {
            "text/plain": [
              "DecisionTreeClassifier(criterion='entropy', max_depth=10, random_state=0)"
            ]
          },
          "metadata": {},
          "execution_count": 124
        }
      ]
    },
    {
      "cell_type": "code",
      "source": [
        "y_pred_DT=classifier.predict(tfidf_test)\n",
        "score=accuracy_score(y_test,y_pred_DT)"
      ],
      "metadata": {
        "id": "dQM6mGT-OuZk"
      },
      "execution_count": null,
      "outputs": []
    },
    {
      "cell_type": "code",
      "source": [
        "print(f'Accuracy : {round(score*100,2)}%')"
      ],
      "metadata": {
        "colab": {
          "base_uri": "https://localhost:8080/"
        },
        "id": "TnyGlC5YPKlp",
        "outputId": "fde32882-94d5-4d1c-8d11-5b21b9250715"
      },
      "execution_count": null,
      "outputs": [
        {
          "output_type": "stream",
          "name": "stdout",
          "text": [
            "Accuracy : 76.12%\n"
          ]
        }
      ]
    },
    {
      "cell_type": "code",
      "source": [
        "from sklearn.metrics import confusion_matrix\n",
        "from mlxtend.plotting import plot_confusion_matrix\n",
        "cmDT = confusion_matrix(y_test,y_pred_DT)\n",
        "plot_confusion_matrix(conf_mat = cmDT,figsize=(8,7));"
      ],
      "metadata": {
        "colab": {
          "base_uri": "https://localhost:8080/",
          "height": 478
        },
        "id": "LbsDJ0zpeaZu",
        "outputId": "dd7fe621-43b8-4b55-c84b-22f5f82c9afc"
      },
      "execution_count": null,
      "outputs": [
        {
          "output_type": "display_data",
          "data": {
            "image/png": "[encoded data removed]",
            "text/plain": [
              "<Figure size 576x504 with 1 Axes>"
            ]
          },
          "metadata": {}
        }
      ]
    },
    {
      "cell_type": "markdown",
      "source": [
        "**KFOLD CROSS VALIDATION - DECISION TREE**\n"
      ],
      "metadata": {
        "id": "dfpcZRUcR1x5"
      }
    },
    {
      "cell_type": "code",
      "source": [
        "scores = cross_val_score(classifier, tfidf_train, y_train, scoring='accuracy', cv=cv, n_jobs=-1)\n"
      ],
      "metadata": {
        "id": "VekLaQWCE_o6"
      },
      "execution_count": null,
      "outputs": []
    },
    {
      "cell_type": "code",
      "source": [
        "from statistics import mean\n",
        "\n",
        "print(f'Accuracy : {round(mean(scores)*100,2)}%')"
      ],
      "metadata": {
        "colab": {
          "base_uri": "https://localhost:8080/"
        },
        "id": "sjA3VnguFX_n",
        "outputId": "23c4713b-128f-4524-99ed-650e8e9486f7"
      },
      "execution_count": null,
      "outputs": [
        {
          "output_type": "stream",
          "name": "stdout",
          "text": [
            "Accuracy : 76.76%\n"
          ]
        }
      ]
    },
    {
      "cell_type": "markdown",
      "source": [
        "**K-EN YAKIN KOMŞULUK ALGORİTMASI**"
      ],
      "metadata": {
        "id": "Z8aswqm8Vl5w"
      }
    },
    {
      "cell_type": "code",
      "source": [
        "from sklearn.neighbors import KNeighborsClassifier\n",
        "knn = KNeighborsClassifier(n_neighbors=7)\n",
        " \n",
        "knn.fit(tfidf_train,y_train)\n",
        "\n",
        "y_pred_KNN=knn.predict(tfidf_test)\n",
        "\n",
        "scoreknn=accuracy_score(y_test,y_pred_KNN)\n",
        "# Predict on dataset which model has not seen before\n",
        "print(f'Accuracy : {round(scoreknn*100,2)}%')"
      ],
      "metadata": {
        "colab": {
          "base_uri": "https://localhost:8080/"
        },
        "id": "XlmarICGV4En",
        "outputId": "fa561657-d283-40a9-df49-e4de4f382e74"
      },
      "execution_count": null,
      "outputs": [
        {
          "output_type": "stream",
          "name": "stdout",
          "text": [
            "Accuracy : 87.14%\n"
          ]
        }
      ]
    },
    {
      "cell_type": "code",
      "source": [
        "from sklearn.metrics import confusion_matrix\n",
        "from mlxtend.plotting import plot_confusion_matrix\n",
        "cmKNN = confusion_matrix(y_test,y_pred_KNN)\n",
        "plot_confusion_matrix(conf_mat = cmKNN,figsize=(8,7));"
      ],
      "metadata": {
        "colab": {
          "base_uri": "https://localhost:8080/",
          "height": 478
        },
        "id": "zyzhQiVqdxoe",
        "outputId": "f7e3be90-0a45-4e23-feba-2fc973b7dfb8"
      },
      "execution_count": null,
      "outputs": [
        {
          "output_type": "display_data",
          "data": {
            "image/png": "[encoded data removed]",
            "text/plain": [
              "<Figure size 576x504 with 1 Axes>"
            ]
          },
          "metadata": {}
        }
      ]
    },
    {
      "cell_type": "markdown",
      "source": [
        "**KFOLD CROSS VALIDATION - K-NN**\n",
        "\n"
      ],
      "metadata": {
        "id": "-mlUlPvekIW8"
      }
    },
    {
      "cell_type": "code",
      "source": [
        "scoreKnnCrossVal= cross_val_score(knn, tfidf_train, y_train, scoring='accuracy', cv=cv, n_jobs=-1)\n"
      ],
      "metadata": {
        "id": "ZwNY_utxkIXf"
      },
      "execution_count": null,
      "outputs": []
    },
    {
      "cell_type": "code",
      "source": [
        "from statistics import mean\n",
        "\n",
        "print(f'Accuracy : {round(mean(scoreKnnCrossVal)*100,2)}%')"
      ],
      "metadata": {
        "colab": {
          "base_uri": "https://localhost:8080/"
        },
        "outputId": "8202b93b-5e6d-4a74-e5fc-281ac1d99303",
        "id": "BSHI_mCUkIXg"
      },
      "execution_count": null,
      "outputs": [
        {
          "output_type": "stream",
          "name": "stdout",
          "text": [
            "Accuracy : 84.83%\n"
          ]
        }
      ]
    },
    {
      "cell_type": "markdown",
      "source": [
        "**NAIVE BAYES**"
      ],
      "metadata": {
        "id": "JXZGnDYlYQmK"
      }
    },
    {
      "cell_type": "code",
      "source": [
        "from sklearn.naive_bayes import GaussianNB,BernoulliNB,MultinomialNB \n",
        "bayes = BernoulliNB ()\n",
        "tfidf_train_array=tfidf_train.toarray()\n",
        "\n",
        "bayes.fit(tfidf_train_array, y_train)\n"
      ],
      "metadata": {
        "colab": {
          "base_uri": "https://localhost:8080/"
        },
        "id": "m-0as35QYSOG",
        "outputId": "9f0f7e2a-85a0-4b1a-aa62-58a1d62c4de2"
      },
      "execution_count": null,
      "outputs": [
        {
          "output_type": "execute_result",
          "data": {
            "text/plain": [
              "BernoulliNB()"
            ]
          },
          "metadata": {},
          "execution_count": 105
        }
      ]
    },
    {
      "cell_type": "code",
      "source": [
        "y_pred_bayes = bayes.predict(tfidf_test.toarray())\n"
      ],
      "metadata": {
        "id": "i0dwVrdsYYFE"
      },
      "execution_count": null,
      "outputs": []
    },
    {
      "cell_type": "code",
      "source": [
        "score_bayes=accuracy_score(y_test,y_pred_bayes)\n",
        "# Predict on dataset which model has not seen before\n",
        "print(f'Accuracy : {round(score_bayes*100,2)}%')"
      ],
      "metadata": {
        "colab": {
          "base_uri": "https://localhost:8080/"
        },
        "id": "6FwiG_p3ayxC",
        "outputId": "9ef128e7-6296-4f79-cad7-d14c7dae21eb"
      },
      "execution_count": null,
      "outputs": [
        {
          "output_type": "stream",
          "name": "stdout",
          "text": [
            "Accuracy : 85.51%\n"
          ]
        }
      ]
    },
    {
      "cell_type": "code",
      "source": [
        "from sklearn.metrics import confusion_matrix\n",
        "from mlxtend.plotting import plot_confusion_matrix\n",
        "cmBayes = confusion_matrix(y_test,y_pred_bayes)\n",
        "plot_confusion_matrix(conf_mat = cmBayes,figsize=(8,7));"
      ],
      "metadata": {
        "colab": {
          "base_uri": "https://localhost:8080/",
          "height": 478
        },
        "id": "BKhTOySwdAgc",
        "outputId": "aa6a1511-687d-4258-84ef-76a018e58e3f"
      },
      "execution_count": null,
      "outputs": [
        {
          "output_type": "display_data",
          "data": {
            "image/png": "[encoded data removed]",
            "text/plain": [
              "<Figure size 576x504 with 1 Axes>"
            ]
          },
          "metadata": {}
        }
      ]
    },
    {
      "cell_type": "markdown",
      "source": [
        "**KFOLD CROSS VALIDATION - BAYES**\n",
        "\n",
        "> Girintili blok\n",
        "\n",
        "\n",
        "\n"
      ],
      "metadata": {
        "id": "fpZmQM9VnqMh"
      }
    },
    {
      "cell_type": "code",
      "source": [
        "scoreBayesCrossVal= cross_val_score(bayes, tfidf_train, y_train, scoring='accuracy', cv=cv, n_jobs=-1)\n"
      ],
      "metadata": {
        "id": "L6JD7qfOnqM0"
      },
      "execution_count": null,
      "outputs": []
    },
    {
      "cell_type": "code",
      "source": [
        "from statistics import mean\n",
        "\n",
        "print(f'Accuracy : {round(mean(scoreBayesCrossVal)*100,2)}%')"
      ],
      "metadata": {
        "colab": {
          "base_uri": "https://localhost:8080/"
        },
        "outputId": "6f8d3c24-1d24-4edd-f809-7fc7b5fc31fc",
        "id": "j-fzKiJMnqM2"
      },
      "execution_count": null,
      "outputs": [
        {
          "output_type": "stream",
          "name": "stdout",
          "text": [
            "Accuracy : 87.07%\n"
          ]
        }
      ]
    },
    {
      "cell_type": "markdown",
      "source": [
        "**KFOLD CROSS VALIDATION - BAYES**\n",
        "\n",
        "\n",
        "\n",
        "\n"
      ],
      "metadata": {
        "id": "AEflS6o7nxNV"
      }
    },
    {
      "cell_type": "code",
      "source": [
        "scoreKnnCrossVal= cross_val_score(knn, tfidf_train, y_train, scoring='accuracy', cv=cv, n_jobs=-1)\n"
      ],
      "metadata": {
        "id": "8Eu3vjpBnxNW"
      },
      "execution_count": null,
      "outputs": []
    },
    {
      "cell_type": "code",
      "source": [
        "from statistics import mean\n",
        "\n",
        "print(f'Accuracy : {round(mean(scoreKnnCrossVal)*100,2)}%')"
      ],
      "metadata": {
        "colab": {
          "base_uri": "https://localhost:8080/"
        },
        "outputId": "8202b93b-5e6d-4a74-e5fc-281ac1d99303",
        "id": "FPI5PO_WnxNX"
      },
      "execution_count": null,
      "outputs": [
        {
          "output_type": "stream",
          "name": "stdout",
          "text": [
            "Accuracy : 84.83%\n"
          ]
        }
      ]
    }
  ]
}